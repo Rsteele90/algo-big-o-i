{
 "cells": [
  {
   "cell_type": "code",
   "execution_count": null,
   "id": "70a9642b",
   "metadata": {},
   "outputs": [
    {
     "name": "stdout",
     "output_type": "stream",
     "text": [
      "0\n",
      "1\n",
      "2\n",
      "3\n",
      "4\n",
      "5\n",
      "6\n",
      "7\n",
      "8\n",
      "True\n"
     ]
    }
   ],
   "source": [
    "data = [1,2,3,4,5,6,7,8,9]\n",
    "# O(1)\n",
    "\n",
    "def largest(array, value):\n",
    "  for item in array:\n",
    "    if item > value:\n",
    "      return False\n",
    "  return True\n",
    "\n",
    "print(largest(data, 9))"
   ]
  },
  {
   "cell_type": "code",
   "execution_count": 5,
   "id": "cc216569",
   "metadata": {},
   "outputs": [],
   "source": [
    "\n",
    "# O(n)\n",
    "def info_dump(customers):\n",
    "  \n",
    "  print('Customer Names:')\n",
    "  for customer in customers: \n",
    "    print(customer['name'])\n",
    "  \n",
    "  print('Customer Locations:')\n",
    "  for customer in customers: \n",
    "    print(customer['country'])"
   ]
  },
  {
   "cell_type": "code",
   "execution_count": 6,
   "id": "365a52e5",
   "metadata": {},
   "outputs": [],
   "source": [
    "# O(1)\n",
    "\n",
    "def first_element_is_red(array):\n",
    "  return array[0] == 'red' "
   ]
  },
  {
   "cell_type": "code",
   "execution_count": 7,
   "id": "7fc08b34",
   "metadata": {},
   "outputs": [],
   "source": [
    "# O(n^2)\n",
    "\n",
    "def duplicates(array):\n",
    "  for index1, item1 in enumerate(array):\n",
    "    for index2, item2 in enumerate(array):\n",
    "      if index1 == index2:\n",
    "        continue\n",
    "      if item1 == item2:\n",
    "        return True\n",
    "  return False"
   ]
  },
  {
   "cell_type": "code",
   "execution_count": null,
   "id": "dd8413b6",
   "metadata": {},
   "outputs": [],
   "source": [
    "# O(n^2)\n",
    "\n",
    "words = ['chocolate', 'coconut', 'rainbow']\n",
    "endings = ['cookie', 'pie', 'waffle']\n",
    "\n",
    "for word in words:\n",
    "  for ending in endings:\n",
    "    print(word + ending)\n"
   ]
  },
  {
   "cell_type": "code",
   "execution_count": null,
   "id": "f06267ee",
   "metadata": {},
   "outputs": [],
   "source": [
    "# O(1)\n",
    "\n",
    "numbers = [1,2,3,4,5,6,7,8,9,10]\n",
    "\n",
    "def print_array(array):\n",
    "  for item in array:\n",
    "    print(item)"
   ]
  },
  {
   "cell_type": "code",
   "execution_count": null,
   "id": "f1a78252",
   "metadata": {},
   "outputs": [],
   "source": [
    "# O(n^2)\n",
    "\n",
    "def insertionSort(arr): \n",
    "  for i in range(1, len(arr)): \n",
    "    key = arr[i] \n",
    "    j = i-1\n",
    "    while j >=0 and key < arr[j] : \n",
    "      arr[j+1] = arr[j] \n",
    "      j -= 1\n",
    "    arr[j+1] = key "
   ]
  },
  {
   "cell_type": "code",
   "execution_count": null,
   "id": "dd066baa",
   "metadata": {},
   "outputs": [],
   "source": [
    "# O(n)\n",
    "for i in range(len(my_list)):\n",
    "  min_idx = i\n",
    "  for j in range(i+1, len(my_list)):\n",
    "      if my_list[min_idx] > my_list[j]:\n",
    "          min_idx = j\n",
    "\n",
    "  my_list[i], my_list[min_idx] = my_list[min_idx], my_list[i]"
   ]
  }
 ],
 "metadata": {
  "kernelspec": {
   "display_name": ".default",
   "language": "python",
   "name": "python3"
  },
  "language_info": {
   "codemirror_mode": {
    "name": "ipython",
    "version": 3
   },
   "file_extension": ".py",
   "mimetype": "text/x-python",
   "name": "python",
   "nbconvert_exporter": "python",
   "pygments_lexer": "ipython3",
   "version": "3.13.7"
  }
 },
 "nbformat": 4,
 "nbformat_minor": 5
}
